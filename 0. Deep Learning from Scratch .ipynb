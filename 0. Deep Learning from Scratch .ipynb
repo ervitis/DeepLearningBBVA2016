{
 "cells": [
  {
   "cell_type": "markdown",
   "metadata": {},
   "source": [
    "# Deep Learning from Scratch"
   ]
  },
  {
   "cell_type": "markdown",
   "metadata": {},
   "source": [
    "> This directory contains Jupyter's notebook-based documentation for the **Deep Learning from Scractch** course. November 2016.\n",
    "\n",
    "\n",
    "Deep learning is one of the fastest growing areas of machine learning and a hot topic in both academia and industry. This course will cover the basics of deep learning by using a hands-on approach.\n",
    "\n",
    "### Approach\n",
    "We will illustrate all contents with Jupyter notebooks, a web application that allows you to create and share documents that contain live code, equations, visualizations and explanatory text.\n",
    "\n",
    "### Target Audience\n",
    "This course is targeted for developers, data scientists and researchers that have a basic knowledge of machine learning.\n",
    "\n",
    "### Prerequisites\n",
    "Minimal experience on Python programming, basic knowledge of calculus, linear algebra, and probability theory. Attendees are expected to bring their own laptops for the hands-on practical work.\n",
    "\n",
    "### Who\n",
    "This course is organized by the Data Science Group @ UB\n",
    "\n",
    "INSTRUCTORS: Oriol Pujol, Associate Professor at UB. Santi Seguí, Lecturer at UB. Jordi Vitrià. Full Professor at UB.\n",
    "\n",
    "### Why\n",
    "By the end of this course, you will be able to:\n",
    "+ Describe how a neural network works and combine different types of layers and activation functions.\n",
    "+ Describe how these models can be applied in computer vision, text analytics, etc.\n",
    "+ Develop your own models in Tensorflow.\n",
    "\n",
    "## Topics\n",
    "\n",
    "* Basic Concepts I\n",
    "* Basic Concepts II\n",
    "* Tensorflow\n",
    "* Convolutional Neural Networks\n",
    "* Recurrent Neural Networks\n",
    "* Unsupervised Learning\n",
    "* Advanced Applications"
   ]
  },
  {
   "cell_type": "code",
   "execution_count": null,
   "metadata": {
    "collapsed": true
   },
   "outputs": [],
   "source": []
  }
 ],
 "metadata": {
  "kernelspec": {
   "display_name": "Python 2",
   "language": "python",
   "name": "python2"
  },
  "language_info": {
   "codemirror_mode": {
    "name": "ipython",
    "version": 2
   },
   "file_extension": ".py",
   "mimetype": "text/x-python",
   "name": "python",
   "nbconvert_exporter": "python",
   "pygments_lexer": "ipython2",
   "version": "2.7.6"
  }
 },
 "nbformat": 4,
 "nbformat_minor": 0
}
