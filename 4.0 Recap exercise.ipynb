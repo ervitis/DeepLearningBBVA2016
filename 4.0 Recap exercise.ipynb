{
 "cells": [
  {
   "cell_type": "markdown",
   "metadata": {},
   "source": [
    "# Wrap up"
   ]
  },
  {
   "cell_type": "code",
   "execution_count": 4,
   "metadata": {
    "collapsed": false
   },
   "outputs": [],
   "source": [
    "%reset -f\n",
    "%matplotlib inline\n",
    "import tensorflow as tf\n",
    "import numpy as np\n",
    "import matplotlib.pyplot as plt\n",
    "tf.reset_default_graph() \n"
   ]
  },
  {
   "cell_type": "code",
   "execution_count": 5,
   "metadata": {
    "collapsed": true
   },
   "outputs": [],
   "source": [
    "# Data \n",
    "from sklearn.datasets import load_digits\n",
    "data = load_digits()\n",
    "\n",
    "idx = np.random.permutation(data.data.shape[0])\n",
    "idx_train = idx[:-100]\n",
    "idx_test = idx[-100:]\n",
    "\n",
    "x_train = data.data[idx_train,:]\n",
    "y_train = data.target[idx_train]\n",
    "x_test = data.data[idx_test,:]\n",
    "y_test = data.target[idx_test]"
   ]
  },
  {
   "cell_type": "code",
   "execution_count": null,
   "metadata": {
    "collapsed": true
   },
   "outputs": [],
   "source": []
  },
  {
   "cell_type": "code",
   "execution_count": 6,
   "metadata": {
    "collapsed": false
   },
   "outputs": [
    {
     "name": "stdout",
     "output_type": "stream",
     "text": [
      "Once deleted, variables cannot be recovered. Proceed (y/[n])? \n",
      "Nothing done.\n"
     ]
    }
   ],
   "source": [
    "%reset\n",
    "%matplotlib inline\n",
    "import tensorflow as tf\n",
    "import numpy as np\n",
    "import matplotlib.pyplot as plt\n",
    "tf.reset_default_graph() \n",
    "\n",
    "\n",
    "# Network Parameters\n",
    "n_input = 64\n",
    "n_hidden_1 = 32\n",
    "\n",
    "# Parameters\n",
    "learning_rate = 1e-3\n"
   ]
  },
  {
   "cell_type": "code",
   "execution_count": 19,
   "metadata": {
    "collapsed": false
   },
   "outputs": [],
   "source": [
    "# Graph inputs\n",
    "x = tf.placeholder(\"float\", [None, n_input], name='x')\n",
    "y = tf.placeholder(\"float\", [None, 1], name='y')\n",
    "\n",
    "# Store layers weight & bias\n",
    "c = 0.1 \n",
    "weights = {\n",
    "    'h1': tf.Variable(c*tf.random_normal([n_input, n_hidden_1]), name='W1'),\n",
    "    'out': tf.Variable(c*tf.random_normal([n_hidden_1, 1]))\n",
    "}\n",
    "biases = {\n",
    "    'b1': tf.Variable(c*tf.random_normal([n_hidden_1]), name='b1'),\n",
    "    'out': tf.Variable(c*tf.random_normal([1]))\n",
    "}\n",
    "\n",
    "layer_1 = tf.nn.relu(tf.add(tf.matmul(x, weights['h1']), biases['b1']))\n",
    "output = tf.add(tf.matmul(layer_1, weights['out']), biases['out'])\n",
    "\n",
    "\n",
    "\n",
    "#Reconstruction loss\n",
    "loss = tf.reduce_mean(tf.abs(output - y))\n",
    "\n",
    "\n",
    "#Optimizer\n",
    "opt = tf.train.AdamOptimizer(learning_rate).minimize(loss)\n",
    "\n",
    "init = tf.initialize_all_variables()"
   ]
  },
  {
   "cell_type": "code",
   "execution_count": 20,
   "metadata": {
    "collapsed": true
   },
   "outputs": [],
   "source": [
    "# Data \n",
    "from sklearn.datasets import load_digits\n",
    "data = load_digits()\n",
    "\n",
    "idx = np.random.permutation(data.data.shape[0])\n",
    "idx_train = idx[:-100]\n",
    "idx_test = idx[-100:]\n",
    "\n",
    "x_train = data.data[idx_train,:]\n",
    "y_train = data.target[idx_train]\n",
    "x_test = data.data[idx_test,:]\n",
    "y_test = data.target[idx_test]"
   ]
  },
  {
   "cell_type": "code",
   "execution_count": 23,
   "metadata": {
    "collapsed": false
   },
   "outputs": [
    {
     "name": "stderr",
     "output_type": "stream",
     "text": [
      "100%|██████████| 10000/10000 [00:09<00:00, 1044.33it/s]\n"
     ]
    },
    {
     "name": "stdout",
     "output_type": "stream",
     "text": [
      "Optimization Finished!\n"
     ]
    }
   ],
   "source": [
    "sess = tf.Session()\n",
    "sess.run(init)\n",
    "\n",
    "import tqdm\n",
    "training_epochs = 10000\n",
    "display_step = 50\n",
    "\n",
    "# Training cycle\n",
    "cost = []\n",
    "batch_size=16\n",
    "for epoch in tqdm.tqdm(xrange(training_epochs)):\n",
    "    idxs = np.random.randint(0,x_train.shape[0],batch_size)\n",
    "    xs = x_train[idxs,:]/16.\n",
    "    ys = y_train[idxs][:,np.newaxis]\n",
    "    sess.run(opt, feed_dict={x: xs, y: ys})\n",
    "    if epoch % display_step == 1:\n",
    "        cost.append(sess.run(loss, feed_dict={x: xs, y: ys }))\n",
    "\n",
    "print \"Optimization Finished!\""
   ]
  },
  {
   "cell_type": "code",
   "execution_count": 24,
   "metadata": {
    "collapsed": false
   },
   "outputs": [
    {
     "data": {
      "text/plain": [
       "array([[  6.05617476,   8.        ],\n",
       "       [  1.22179008,   1.        ],\n",
       "       [  4.80580568,   6.        ],\n",
       "       [  5.2840848 ,   6.        ],\n",
       "       [  3.23546791,   8.        ],\n",
       "       [  4.35415268,   5.        ],\n",
       "       [ 11.04371357,   9.        ],\n",
       "       [  3.88889647,   4.        ],\n",
       "       [  2.84020424,   3.        ],\n",
       "       [  5.20426559,   5.        ],\n",
       "       [  3.11576128,   1.        ],\n",
       "       [  0.26507246,   0.        ],\n",
       "       [  2.76579857,   2.        ],\n",
       "       [  6.78263998,   7.        ],\n",
       "       [  0.3442443 ,   1.        ],\n",
       "       [  6.09711409,   7.        ],\n",
       "       [  1.66482794,   2.        ],\n",
       "       [  8.44147205,   9.        ],\n",
       "       [  7.93614244,   9.        ],\n",
       "       [  3.81157207,   4.        ],\n",
       "       [  2.11424685,   3.        ],\n",
       "       [  9.97387028,   9.        ],\n",
       "       [  7.36736679,   7.        ],\n",
       "       [  6.32968235,   6.        ],\n",
       "       [ -0.22298861,   1.        ],\n",
       "       [  7.92960453,   9.        ],\n",
       "       [  7.5869875 ,   7.        ],\n",
       "       [  9.56771183,   9.        ],\n",
       "       [  6.30264711,   7.        ],\n",
       "       [ -0.51921821,   0.        ],\n",
       "       [  9.19419575,   9.        ],\n",
       "       [  1.73979425,   1.        ],\n",
       "       [  3.67623186,   4.        ],\n",
       "       [  7.21883392,   7.        ],\n",
       "       [  2.72593021,   3.        ],\n",
       "       [  5.83749008,   7.        ],\n",
       "       [  0.12014246,   0.        ],\n",
       "       [  0.8581624 ,   0.        ],\n",
       "       [  3.84807396,   4.        ],\n",
       "       [  3.38268709,   6.        ],\n",
       "       [  1.17133319,   0.        ],\n",
       "       [  4.4332428 ,   4.        ],\n",
       "       [  9.69098759,   9.        ],\n",
       "       [  5.26011038,   5.        ],\n",
       "       [ -0.25578964,   0.        ],\n",
       "       [  3.3473897 ,   3.        ],\n",
       "       [  8.16262722,   9.        ],\n",
       "       [  6.05749559,   6.        ],\n",
       "       [  4.35894966,   3.        ],\n",
       "       [  5.85805988,   6.        ],\n",
       "       [  6.68923712,   7.        ],\n",
       "       [  5.09076071,   5.        ],\n",
       "       [  3.78517628,   3.        ],\n",
       "       [  1.56442964,   2.        ],\n",
       "       [  0.50923955,   1.        ],\n",
       "       [  8.66133881,   9.        ],\n",
       "       [  2.08299327,   2.        ],\n",
       "       [  5.78901911,   6.        ],\n",
       "       [  1.85938251,   2.        ],\n",
       "       [  2.32824659,   3.        ],\n",
       "       [  0.43072015,   0.        ],\n",
       "       [  3.70899773,   5.        ],\n",
       "       [  0.57841361,   0.        ],\n",
       "       [  6.85906649,   7.        ],\n",
       "       [  2.14901376,   2.        ],\n",
       "       [  1.75575542,   2.        ],\n",
       "       [  8.63748646,   9.        ],\n",
       "       [  5.9685955 ,   6.        ],\n",
       "       [  4.91121817,   5.        ],\n",
       "       [  6.61487055,   7.        ],\n",
       "       [  4.37340546,   3.        ],\n",
       "       [  4.2119379 ,   4.        ],\n",
       "       [  4.7677207 ,   5.        ],\n",
       "       [  7.96376133,   8.        ],\n",
       "       [  5.82450485,   6.        ],\n",
       "       [  4.95388651,   5.        ],\n",
       "       [ -0.41276026,   0.        ],\n",
       "       [  2.61445522,   1.        ],\n",
       "       [  6.44314814,   8.        ],\n",
       "       [  2.34214807,   2.        ],\n",
       "       [  1.06951427,   0.        ],\n",
       "       [  2.00880289,   1.        ],\n",
       "       [ -0.05824363,   0.        ],\n",
       "       [  7.53541327,   7.        ],\n",
       "       [  6.07271194,   9.        ],\n",
       "       [  0.83342779,   0.        ],\n",
       "       [ 10.17685509,   9.        ],\n",
       "       [  4.30995941,   5.        ],\n",
       "       [  6.98378897,   8.        ],\n",
       "       [  4.18541431,   4.        ],\n",
       "       [  3.99603701,   3.        ],\n",
       "       [  2.90997171,   1.        ],\n",
       "       [  4.61576605,   5.        ],\n",
       "       [  0.57803357,   1.        ],\n",
       "       [  0.17314243,   0.        ],\n",
       "       [  4.59220171,   4.        ],\n",
       "       [  9.68675232,   9.        ],\n",
       "       [  3.28117609,   3.        ],\n",
       "       [  9.93737507,   9.        ],\n",
       "       [  1.86977947,   2.        ]])"
      ]
     },
     "execution_count": 24,
     "metadata": {},
     "output_type": "execute_result"
    }
   ],
   "source": [
    "#Test\n",
    "\n",
    "sess.run(output, feed_dict={x: x_test/16.})\n",
    "\n",
    "np.c_[sess.run(output, feed_dict={x: x_test/16.}),y_test]"
   ]
  },
  {
   "cell_type": "code",
   "execution_count": null,
   "metadata": {
    "collapsed": true
   },
   "outputs": [],
   "source": []
  }
 ],
 "metadata": {
  "kernelspec": {
   "display_name": "Python 2",
   "language": "python",
   "name": "python2"
  },
  "language_info": {
   "codemirror_mode": {
    "name": "ipython",
    "version": 2
   },
   "file_extension": ".py",
   "mimetype": "text/x-python",
   "name": "python",
   "nbconvert_exporter": "python",
   "pygments_lexer": "ipython2",
   "version": "2.7.6"
  }
 },
 "nbformat": 4,
 "nbformat_minor": 0
}
