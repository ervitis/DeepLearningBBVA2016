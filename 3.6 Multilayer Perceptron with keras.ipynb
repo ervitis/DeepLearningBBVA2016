{
 "cells": [
  {
   "cell_type": "markdown",
   "metadata": {},
   "source": [
    "# Multilayer Perceptron with Keras"
   ]
  },
  {
   "cell_type": "code",
   "execution_count": 3,
   "metadata": {
    "collapsed": false
   },
   "outputs": [],
   "source": [
    "# Import MINST data\n",
    "from keras.datasets import mnist\n",
    "from keras import backend as K\n",
    "from keras.utils import np_utils\n",
    "from keras.models import Sequential\n",
    "from keras.layers import Dense, Activation \n",
    "from keras.optimizers import Adam"
   ]
  },
  {
   "cell_type": "code",
   "execution_count": 4,
   "metadata": {
    "collapsed": false
   },
   "outputs": [
    {
     "name": "stdout",
     "output_type": "stream",
     "text": [
      "(60000, 'train samples')\n",
      "(10000, 'test samples')\n",
      "Train on 60000 samples, validate on 10000 samples\n",
      "Epoch 1/15\n",
      "60000/60000 [==============================] - 10s - loss: 0.2516 - acc: 0.9261 - val_loss: 0.1262 - val_acc: 0.9608\n",
      "Epoch 2/15\n",
      "60000/60000 [==============================] - 10s - loss: 0.0997 - acc: 0.9691 - val_loss: 0.0929 - val_acc: 0.9700\n",
      "Epoch 3/15\n",
      "60000/60000 [==============================] - 12s - loss: 0.0653 - acc: 0.9793 - val_loss: 0.0761 - val_acc: 0.9771\n",
      "Epoch 4/15\n",
      "60000/60000 [==============================] - 11s - loss: 0.0453 - acc: 0.9853 - val_loss: 0.0766 - val_acc: 0.9768\n",
      "Epoch 5/15\n",
      "60000/60000 [==============================] - 11s - loss: 0.0378 - acc: 0.9874 - val_loss: 0.0776 - val_acc: 0.9759\n",
      "Epoch 6/15\n",
      "60000/60000 [==============================] - 11s - loss: 0.0285 - acc: 0.9906 - val_loss: 0.0713 - val_acc: 0.9797\n",
      "Epoch 7/15\n",
      "60000/60000 [==============================] - 13s - loss: 0.0252 - acc: 0.9920 - val_loss: 0.0767 - val_acc: 0.9770\n",
      "Epoch 8/15\n",
      "60000/60000 [==============================] - 11s - loss: 0.0181 - acc: 0.9943 - val_loss: 0.0748 - val_acc: 0.9787\n",
      "Epoch 9/15\n",
      "60000/60000 [==============================] - 10s - loss: 0.0169 - acc: 0.9941 - val_loss: 0.0851 - val_acc: 0.9772\n",
      "Epoch 10/15\n",
      "60000/60000 [==============================] - 10s - loss: 0.0156 - acc: 0.9947 - val_loss: 0.0922 - val_acc: 0.9783\n",
      "Epoch 11/15\n",
      "60000/60000 [==============================] - 9s - loss: 0.0146 - acc: 0.9950 - val_loss: 0.1056 - val_acc: 0.9762\n",
      "Epoch 12/15\n",
      "60000/60000 [==============================] - 10s - loss: 0.0141 - acc: 0.9953 - val_loss: 0.0762 - val_acc: 0.9803\n",
      "Epoch 13/15\n",
      "60000/60000 [==============================] - 12s - loss: 0.0102 - acc: 0.9966 - val_loss: 0.0932 - val_acc: 0.9779\n",
      "Epoch 14/15\n",
      "60000/60000 [==============================] - 11s - loss: 0.0125 - acc: 0.9959 - val_loss: 0.1049 - val_acc: 0.9779\n",
      "Epoch 15/15\n",
      "60000/60000 [==============================] - 12s - loss: 0.0122 - acc: 0.9961 - val_loss: 0.0865 - val_acc: 0.9802\n",
      "('Test loss:', 0.086470205308183445)\n",
      "('Test accuracy:', 0.98019999999999996)\n"
     ]
    }
   ],
   "source": [
    "# the data, shuffled and split between train and test sets\n",
    "(X_train, y_train), (X_test, y_test) = mnist.load_data()\n",
    "\n",
    "# Parameters\n",
    "learning_rate = 0.001\n",
    "training_epochs = 15\n",
    "batch_size = 100\n",
    "\n",
    "# Network Parameters\n",
    "n_hidden_1 = 256 # 1st layer number of features\n",
    "n_hidden_2 = 256 # 2nd layer number of features\n",
    "n_input = 784 # MNIST data input (img shape: 28*28)\n",
    "n_classes = 10 # MNIST total classes (0-9 digits)\n",
    "\n",
    "X_train = X_train.reshape(60000, 784)\n",
    "X_test = X_test.reshape(10000, 784)\n",
    "X_train = X_train.astype('float32')\n",
    "X_test = X_test.astype('float32')\n",
    "X_train /= 255\n",
    "X_test /= 255\n",
    "print(X_train.shape[0], 'train samples')\n",
    "print(X_test.shape[0], 'test samples')\n",
    "\n",
    "# convert class vectors to binary class matrices\n",
    "Y_train = np_utils.to_categorical(y_train, n_classes)\n",
    "Y_test = np_utils.to_categorical(y_test, n_classes)\n",
    "\n",
    "model = Sequential()\n",
    "model.add(Dense(n_hidden_1, input_shape=(784,)))\n",
    "model.add(Activation('relu'))\n",
    "model.add(Dense(n_hidden_2))\n",
    "model.add(Activation('relu'))   \n",
    "model.add(Dense(n_classes))\n",
    "model.add(Activation('softmax'))\n",
    "      \n",
    "adam = Adam(lr=learning_rate, beta_1=0.9, beta_2=0.999, epsilon=1e-08, decay=0.0)\n",
    "model.compile(loss='categorical_crossentropy',\n",
    "              optimizer=adam,\n",
    "              metrics=['accuracy'])\n",
    "\n",
    "model.fit(X_train, Y_train, batch_size=batch_size, nb_epoch=training_epochs,\n",
    "          verbose=1, validation_data=(X_test, Y_test))\n",
    "score = model.evaluate(X_test, Y_test, verbose=0)\n",
    "print('Test loss:', score[0])\n",
    "print('Test accuracy:', score[1])"
   ]
  },
  {
   "cell_type": "code",
   "execution_count": null,
   "metadata": {
    "collapsed": true
   },
   "outputs": [],
   "source": []
  }
 ],
 "metadata": {
  "kernelspec": {
   "display_name": "Python 2",
   "language": "python",
   "name": "python2"
  },
  "language_info": {
   "codemirror_mode": {
    "name": "ipython",
    "version": 2
   },
   "file_extension": ".py",
   "mimetype": "text/x-python",
   "name": "python",
   "nbconvert_exporter": "python",
   "pygments_lexer": "ipython2",
   "version": "2.7.6"
  }
 },
 "nbformat": 4,
 "nbformat_minor": 1
}
