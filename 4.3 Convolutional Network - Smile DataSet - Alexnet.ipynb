{
 "cells": [
  {
   "cell_type": "markdown",
   "metadata": {},
   "source": [
    "# Smile Detection using Convolutional Neural Networks"
   ]
  },
  {
   "cell_type": "raw",
   "metadata": {
    "collapsed": false
   },
   "source": [
    "#Download dataset\n",
    "!wget https://github.com/hromi/SMILEsmileD/archive/master.zip\n",
    "!unzip -q master.zip\n",
    "!rm master.zip"
   ]
  },
  {
   "cell_type": "code",
   "execution_count": null,
   "metadata": {
    "collapsed": false
   },
   "outputs": [],
   "source": [
    "#util and imports\n",
    "import os\n",
    "import fnmatch\n",
    "from cStringIO import StringIO\n",
    "import numpy as np\n",
    "import PIL.Image\n",
    "import IPython.display\n",
    "import shutil\n",
    "\n",
    "\n",
    "def list_all_files(directory, extensions=None):\n",
    "    for root, dirnames, filenames in os.walk(directory):\n",
    "        for filename in filenames:\n",
    "            base, ext = os.path.splitext(filename)\n",
    "            joined = os.path.join(root, filename)\n",
    "            if extensions is None or ext.lower() in extensions:\n",
    "                yield joined\n",
    "\n",
    "\n",
    "def show_array(a, fmt='png', filename=None):\n",
    "    a = np.uint8(np.clip(a, 0, 255))\n",
    "    image_data = StringIO()\n",
    "    PIL.Image.fromarray(a).save(image_data, fmt)\n",
    "    if filename is None:\n",
    "        IPython.display.display(IPython.display.Image(data=image_data.getvalue()))\n",
    "    else:\n",
    "        with open(filename, 'w') as f:\n",
    "            image_data.seek(0)\n",
    "            shutil.copyfileobj(image_data, f)\n",
    "\n",
    "def find_rectangle(n, max_ratio=2):\n",
    "    sides = []\n",
    "    square = int(math.sqrt(n))\n",
    "    for w in range(square, max_ratio * square):\n",
    "        h = n / w\n",
    "        used = w * h\n",
    "        leftover = n - used\n",
    "        sides.append((leftover, (w, h)))\n",
    "    return sorted(sides)[0][1]\n",
    "\n",
    "# should work for 1d and 2d images, assumes images are square but can be overriden\n",
    "def make_mosaic(images, n=None, nx=None, ny=None, w=None, h=None):\n",
    "    if n is None and nx is None and ny is None:\n",
    "        nx, ny = find_rectangle(len(images))\n",
    "    else:\n",
    "        nx = n if nx is None else nx\n",
    "        ny = n if ny is None else ny\n",
    "    images = np.array(images)\n",
    "    if images.ndim == 2:\n",
    "        side = int(np.sqrt(len(images[0])))\n",
    "        h = side if h is None else h\n",
    "        w = side if w is None else w\n",
    "        images = images.reshape(-1, h, w)\n",
    "    else:\n",
    "        h = images.shape[1]\n",
    "        w = images.shape[2]\n",
    "    image_gen = iter(images)\n",
    "    mosaic = np.empty((h*ny, w*nx))\n",
    "    for i in range(ny):\n",
    "        ia = (i)*h\n",
    "        ib = (i+1)*h\n",
    "        for j in range(nx):\n",
    "            ja = j*w\n",
    "            jb = (j+1)*w\n",
    "            mosaic[ia:ib, ja:jb] = next(image_gen)\n",
    "    return mosaic"
   ]
  },
  {
   "cell_type": "code",
   "execution_count": null,
   "metadata": {
    "collapsed": false
   },
   "outputs": [],
   "source": [
    "negative_paths = list(list_all_files('SMILEsmileD-master/SMILEs/negatives/negatives7/', ['.jpg']))\n",
    "print 'loaded', len(negative_paths), 'negative examples'\n",
    "positive_paths = list(list_all_files('SMILEsmileD-master/SMILEs/positives/positives7/', ['.jpg']))\n",
    "print 'loaded', len(positive_paths), 'positive examples'\n",
    "examples = [(path, 0) for path in negative_paths] + [(path, 1) for path in positive_paths]"
   ]
  },
  {
   "cell_type": "code",
   "execution_count": null,
   "metadata": {
    "collapsed": false
   },
   "outputs": [],
   "source": [
    "import numpy as np\n",
    "from skimage.measure import block_reduce\n",
    "from skimage.io import imread\n",
    "\n",
    "def examples_to_dataset(examples, block_size=2):\n",
    "    X = []\n",
    "    y = []\n",
    "    for path, label in examples:\n",
    "        img = imread(path, as_grey=True)\n",
    "        img = block_reduce(img, block_size=(block_size, block_size), func=np.mean)\n",
    "        img = img.reshape((32*32))\n",
    "        X.append(img)\n",
    "        if(label==0):\n",
    "            y.append((1,0))\n",
    "        else:\n",
    "            y.append((0,1))\n",
    "    return np.asarray(X), np.asarray(y)\n",
    "\n",
    "%time X, Y = examples_to_dataset(examples)\n",
    "X = np.asarray(X,dtype=np.float32)/ 255.\n",
    "Y = np.asarray(Y,dtype=np.int32)"
   ]
  },
  {
   "cell_type": "code",
   "execution_count": null,
   "metadata": {
    "collapsed": false
   },
   "outputs": [],
   "source": [
    "# Split data into train and test set\n",
    "from sklearn.cross_validation import train_test_split\n",
    "X_train, X_test, y_train, y_test = train_test_split(X, Y, test_size=0.1, random_state=2)"
   ]
  },
  {
   "cell_type": "code",
   "execution_count": null,
   "metadata": {
    "collapsed": false
   },
   "outputs": [],
   "source": [
    "#show Negative images\n",
    "show_array(255 * make_mosaic(X[:len(negative_paths)], 8), fmt='jpeg') # negative at the beginning"
   ]
  },
  {
   "cell_type": "code",
   "execution_count": null,
   "metadata": {
    "collapsed": false
   },
   "outputs": [],
   "source": [
    "#show Positive images\n",
    "show_array(255 * make_mosaic(X[-len(positive_paths):], 8), fmt='jpeg') # positive at the end"
   ]
  },
  {
   "cell_type": "code",
   "execution_count": null,
   "metadata": {
    "collapsed": false
   },
   "outputs": [],
   "source": [
    "import tensorflow as tf"
   ]
  },
  {
   "cell_type": "code",
   "execution_count": null,
   "metadata": {
    "collapsed": false
   },
   "outputs": [],
   "source": [
    "# Network Parameters\n",
    "n_input = X.shape[1]\n",
    "n_classes = 2 # (Smile vs. No Smile)\n",
    "dropout = 0.75 # Dropout, probability to keep units"
   ]
  },
  {
   "cell_type": "code",
   "execution_count": null,
   "metadata": {
    "collapsed": true
   },
   "outputs": [],
   "source": [
    "# Parameters\n",
    "learning_rate = 0.001\n",
    "training_samples = X.shape[0]\n",
    "batch_size = 128\n",
    "display_step = 10\n",
    "training_epochs=50"
   ]
  },
  {
   "cell_type": "code",
   "execution_count": null,
   "metadata": {
    "collapsed": false
   },
   "outputs": [],
   "source": [
    "# tf Graph input\n",
    "x = tf.placeholder(tf.float32, [None, n_input])\n",
    "y = tf.placeholder(tf.float32, [None, n_classes])\n",
    "keep_prob = tf.placeholder(tf.float32) #dropout (keep probability)"
   ]
  },
  {
   "cell_type": "code",
   "execution_count": null,
   "metadata": {
    "collapsed": true
   },
   "outputs": [],
   "source": [
    "# Create AlexNet model\n",
    "def conv2d(name, l_input, w, b):\n",
    "    return tf.nn.relu(tf.nn.bias_add(tf.nn.conv2d(l_input, w, strides=[1, 1, 1, 1], \n",
    "                                                  padding='SAME'),b), name=name)\n",
    "\n",
    "def max_pool(name, l_input, k):\n",
    "    return tf.nn.max_pool(l_input, ksize=[1, k, k, 1], strides=[1, k, k, 1], \n",
    "                          padding='SAME', name=name)\n",
    "\n",
    "def norm(name, l_input, lsize=4):\n",
    "    return tf.nn.lrn(l_input, lsize, bias=1.0, alpha=0.001 / 9.0, beta=0.75, name=name)\n",
    "\n",
    "def alex_net(_X, _weights, _biases, _dropout):\n",
    "    # Reshape input picture\n",
    "    _X = tf.reshape(_X, shape=[-1, 32, 32, 1])\n",
    "\n",
    "    # Convolution Layer\n",
    "    conv1 = conv2d('conv1', _X, _weights['wc1'], _biases['bc1'])\n",
    "    # Max Pooling (down-sampling)\n",
    "    pool1 = max_pool('pool1', conv1, k=2)\n",
    "    # Apply Normalization\n",
    "    norm1 = norm('norm1', pool1, lsize=4)\n",
    "    # Apply Dropout\n",
    "    norm1 = tf.nn.dropout(norm1, _dropout)\n",
    "\n",
    "    # Convolution Layer\n",
    "    conv2 = conv2d('conv2', norm1, _weights['wc2'], _biases['bc2'])\n",
    "    # Max Pooling (down-sampling)\n",
    "    pool2 = max_pool('pool2', conv2, k=2)\n",
    "    # Apply Normalization\n",
    "    norm2 = norm('norm2', pool2, lsize=4)\n",
    "    # Apply Dropout\n",
    "    norm2 = tf.nn.dropout(norm2, _dropout)\n",
    "\n",
    "    # Convolution Layer\n",
    "    conv3 = conv2d('conv3', norm2, _weights['wc3'], _biases['bc3'])\n",
    "    # Max Pooling (down-sampling)\n",
    "    pool3 = max_pool('pool3', conv3, k=2)\n",
    "    # Apply Normalization\n",
    "    norm3 = norm('norm3', pool3, lsize=4)\n",
    "    # Apply Dropout\n",
    "    norm3 = tf.nn.dropout(norm3, _dropout)\n",
    "\n",
    "    # Fully connected layer\n",
    "    # Reshape conv3 output to fit dense layer input\n",
    "    dense1 = tf.reshape(norm3, [-1, _weights['wd1'].get_shape().as_list()[0]]) \n",
    "    # Relu activation\n",
    "    dense1 = tf.nn.relu(tf.matmul(dense1, _weights['wd1']) + _biases['bd1'], name='fc1')\n",
    "    \n",
    "    # Relu activation\n",
    "    dense2 = tf.nn.relu(tf.matmul(dense1, _weights['wd2']) + _biases['bd2'], name='fc2') \n",
    "\n",
    "    # Output, class prediction\n",
    "    out = tf.matmul(dense2, _weights['out']) + _biases['out']\n",
    "    return out"
   ]
  },
  {
   "cell_type": "code",
   "execution_count": null,
   "metadata": {
    "collapsed": false
   },
   "outputs": [],
   "source": [
    "# Store layers weight & bias\n",
    "weights = {\n",
    "    'wc1': tf.Variable(tf.random_normal([3, 3, 1, 64],stddev=0.01)),\n",
    "    'wc2': tf.Variable(tf.random_normal([3, 3, 64, 128],stddev=0.01)),\n",
    "    'wc3': tf.Variable(tf.random_normal([3, 3, 128, 256],stddev=0.01)),\n",
    "    'wd1': tf.Variable(tf.random_normal([4*4*256, 1024],stddev=0.01)),\n",
    "    'wd2': tf.Variable(tf.random_normal([1024, 1024],stddev=0.01)),\n",
    "    'out': tf.Variable(tf.random_normal([1024, 2],stddev=0.01))\n",
    "}\n",
    "biases = {\n",
    "    'bc1': tf.Variable(tf.random_normal([64],stddev=0.01)),\n",
    "    'bc2': tf.Variable(tf.random_normal([128],stddev=0.01)),\n",
    "    'bc3': tf.Variable(tf.random_normal([256],stddev=0.01)),\n",
    "    'bd1': tf.Variable(tf.random_normal([1024],stddev=0.01)),\n",
    "    'bd2': tf.Variable(tf.random_normal([1024],stddev=0.01)),\n",
    "    'out': tf.Variable(tf.random_normal([n_classes]))\n",
    "}"
   ]
  },
  {
   "cell_type": "code",
   "execution_count": null,
   "metadata": {
    "collapsed": false
   },
   "outputs": [],
   "source": [
    "# Construct model\n",
    "pred = alex_net(x, weights, biases, keep_prob)"
   ]
  },
  {
   "cell_type": "code",
   "execution_count": null,
   "metadata": {
    "collapsed": false
   },
   "outputs": [],
   "source": [
    "# Define loss and optimizer\n",
    "#cost = tf.reduce_mean(tf.nn.softmax_cross_entropy_with_logits(pred, y))\n",
    "cost = tf.reduce_mean(tf.nn.weighted_cross_entropy_with_logits(pred, y,pos_weight=10))\n",
    "\n",
    "optimizer = tf.train.AdamOptimizer(learning_rate=learning_rate).minimize(cost)"
   ]
  },
  {
   "cell_type": "code",
   "execution_count": null,
   "metadata": {
    "collapsed": true
   },
   "outputs": [],
   "source": [
    "# Evaluate model\n",
    "correct_pred = tf.equal(tf.argmax(pred,1), tf.argmax(y,1))\n",
    "accuracy = tf.reduce_mean(tf.cast(correct_pred, tf.float32))"
   ]
  },
  {
   "cell_type": "code",
   "execution_count": null,
   "metadata": {
    "collapsed": false
   },
   "outputs": [],
   "source": [
    "# Initializing the variables\n",
    "init = tf.initialize_all_variables()"
   ]
  },
  {
   "cell_type": "code",
   "execution_count": null,
   "metadata": {
    "collapsed": false,
    "scrolled": false
   },
   "outputs": [],
   "source": [
    "X_train = X_train.reshape(X_train.shape[0],1024)\n",
    "\n",
    "import matplotlib.pyplot as plt\n",
    "%matplotlib inline\n",
    "\n",
    "# Launch the graph\n",
    "with tf.Session() as sess:\n",
    "    sess.run(init)\n",
    "  \n",
    "    for epoch in range(training_epochs):\n",
    "        step = 1\n",
    "        # Keep training until reach max iterations\n",
    "        while step * batch_size < training_samples:\n",
    "            batch_xs, batch_ys = X_train[(batch_size*(step-1)):batch_size*(step)],y_train[(batch_size*(step-1)):batch_size*(step)]\n",
    "            # Fit training using batch data\n",
    "            sess.run(optimizer, feed_dict={x: batch_xs, y: batch_ys, keep_prob: dropout})\n",
    "            step += 1\n",
    "        # Calculate batch accuracy\n",
    "        if(epoch%1 == 0):\n",
    "            # Calculate batch loss\n",
    "            acc,conv1filter = sess.run([accuracy,weights['wc1']], feed_dict={x: batch_xs, y: batch_ys, keep_prob: 1.})\n",
    "            loss = sess.run(cost, feed_dict={x: batch_xs, y: batch_ys, keep_prob: 1.})\n",
    "            print \"Epoch \" + str(epoch) + \", Minibatch Loss= \" + \\\n",
    "                          \"{:.6f}\".format(loss) + \", Training Accuracy= \" + \"{:.5f}\".format(acc)\n",
    "        if(epoch%10 == 0):\n",
    "            plt.figure()\n",
    "            plt.matshow(make_mosaic(conv1filter.reshape(9,64).T, 8),cmap=\"gray\")\n",
    "            #plt.matshow(conv1filter[:,:,0,1],cmap=\"gray\")\n",
    "            plt.show()\n",
    "            \n",
    "            #print \"Optimization Finished!\"\n",
    "            # Calculate accuracy for 256 mnist test images\n",
    "            print \"Testing Accuracy:\", sess.run(accuracy, feed_dict={x: X_test, \n",
    "                                                                         y: y_test, \n",
    "                                                                         keep_prob: 1.})"
   ]
  },
  {
   "cell_type": "code",
   "execution_count": null,
   "metadata": {
    "collapsed": true
   },
   "outputs": [],
   "source": []
  }
 ],
 "metadata": {
  "kernelspec": {
   "display_name": "Python 2",
   "language": "python",
   "name": "python2"
  },
  "language_info": {
   "codemirror_mode": {
    "name": "ipython",
    "version": 2
   },
   "file_extension": ".py",
   "mimetype": "text/x-python",
   "name": "python",
   "nbconvert_exporter": "python",
   "pygments_lexer": "ipython2",
   "version": "2.7.6"
  }
 },
 "nbformat": 4,
 "nbformat_minor": 0
}
